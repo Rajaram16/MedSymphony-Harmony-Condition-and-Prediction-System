{
 "cells": [
  {
   "cell_type": "markdown",
   "metadata": {},
   "source": [
    "## Disease Condition prediction based on drug reviews"
   ]
  },
  {
   "cell_type": "markdown",
   "metadata": {},
   "source": [
    "## Importing libraries"
   ]
  },
  {
   "cell_type": "code",
   "execution_count": null,
   "metadata": {},
   "outputs": [],
   "source": [
    "import pandas as pd # data preprocessing\n",
    "import itertools # confusion matrix\n",
    "import string\n",
    "import numpy as np\n",
    "import seaborn as sns\n",
    "from sklearn.feature_extraction.text import CountVectorizer, TfidfVectorizer\n",
    "from sklearn.model_selection import train_test_split\n",
    "from sklearn.linear_model import PassiveAggressiveClassifier\n",
    "from sklearn.naive_bayes import MultinomialNB\n",
    "from sklearn import metrics\n",
    "import matplotlib.pyplot as plt\n",
    "%matplotlib inline\n",
    "# To show all the rows of pandas dataframe\n",
    "pd.set_option('display.max_rows', None)"
   ]
  },
  {
   "cell_type": "code",
   "execution_count": 1,
   "metadata": {},
   "outputs": [
    {
     "name": "stdout",
     "output_type": "stream",
     "text": [
      "The nltk version is 3.8.1.\n",
      "The scikit-learn version is 1.6.1.\n",
      "The scikit-learn version is 4.12.3.\n"
     ]
    }
   ],
   "source": [
    "import nltk\n",
    "import sklearn\n",
    "import bs4\n",
    "print('The nltk version is {}.'.format(nltk.__version__))\n",
    "print('The scikit-learn version is {}.'.format(sklearn.__version__))\n",
    "print('The scikit-learn version is {}.'.format(bs4.__version__))"
   ]
  },
  {
   "cell_type": "code",
   "execution_count": 3,
   "metadata": {},
   "outputs": [],
   "source": [
    "import pandas as pd\n",
    "df=pd.read_csv('data/drugsComTrain_raw.tsv', sep='\\t')"
   ]
  },
  {
   "cell_type": "code",
   "execution_count": 4,
   "metadata": {},
   "outputs": [],
   "source": [
    "df.to_csv('data/drugsComTrain.csv',index=False)"
   ]
  },
  {
   "cell_type": "code",
   "execution_count": 5,
   "metadata": {},
   "outputs": [
    {
     "data": {
      "text/html": [
       "<div>\n",
       "<style scoped>\n",
       "    .dataframe tbody tr th:only-of-type {\n",
       "        vertical-align: middle;\n",
       "    }\n",
       "\n",
       "    .dataframe tbody tr th {\n",
       "        vertical-align: top;\n",
       "    }\n",
       "\n",
       "    .dataframe thead th {\n",
       "        text-align: right;\n",
       "    }\n",
       "</style>\n",
       "<table border=\"1\" class=\"dataframe\">\n",
       "  <thead>\n",
       "    <tr style=\"text-align: right;\">\n",
       "      <th></th>\n",
       "      <th>Unnamed: 0</th>\n",
       "      <th>drugName</th>\n",
       "      <th>condition</th>\n",
       "      <th>review</th>\n",
       "      <th>rating</th>\n",
       "      <th>date</th>\n",
       "      <th>usefulCount</th>\n",
       "    </tr>\n",
       "  </thead>\n",
       "  <tbody>\n",
       "    <tr>\n",
       "      <th>0</th>\n",
       "      <td>206461</td>\n",
       "      <td>Valsartan</td>\n",
       "      <td>Left Ventricular Dysfunction</td>\n",
       "      <td>\"It has no side effect, I take it in combinati...</td>\n",
       "      <td>9.0</td>\n",
       "      <td>May 20, 2012</td>\n",
       "      <td>27</td>\n",
       "    </tr>\n",
       "    <tr>\n",
       "      <th>1</th>\n",
       "      <td>95260</td>\n",
       "      <td>Guanfacine</td>\n",
       "      <td>ADHD</td>\n",
       "      <td>\"My son is halfway through his fourth week of ...</td>\n",
       "      <td>8.0</td>\n",
       "      <td>April 27, 2010</td>\n",
       "      <td>192</td>\n",
       "    </tr>\n",
       "    <tr>\n",
       "      <th>2</th>\n",
       "      <td>92703</td>\n",
       "      <td>Lybrel</td>\n",
       "      <td>Birth Control</td>\n",
       "      <td>\"I used to take another oral contraceptive, wh...</td>\n",
       "      <td>5.0</td>\n",
       "      <td>December 14, 2009</td>\n",
       "      <td>17</td>\n",
       "    </tr>\n",
       "    <tr>\n",
       "      <th>3</th>\n",
       "      <td>138000</td>\n",
       "      <td>Ortho Evra</td>\n",
       "      <td>Birth Control</td>\n",
       "      <td>\"This is my first time using any form of birth...</td>\n",
       "      <td>8.0</td>\n",
       "      <td>November 3, 2015</td>\n",
       "      <td>10</td>\n",
       "    </tr>\n",
       "    <tr>\n",
       "      <th>4</th>\n",
       "      <td>35696</td>\n",
       "      <td>Buprenorphine / naloxone</td>\n",
       "      <td>Opiate Dependence</td>\n",
       "      <td>\"Suboxone has completely turned my life around...</td>\n",
       "      <td>9.0</td>\n",
       "      <td>November 27, 2016</td>\n",
       "      <td>37</td>\n",
       "    </tr>\n",
       "  </tbody>\n",
       "</table>\n",
       "</div>"
      ],
      "text/plain": [
       "   Unnamed: 0                  drugName                     condition  \\\n",
       "0      206461                 Valsartan  Left Ventricular Dysfunction   \n",
       "1       95260                Guanfacine                          ADHD   \n",
       "2       92703                    Lybrel                 Birth Control   \n",
       "3      138000                Ortho Evra                 Birth Control   \n",
       "4       35696  Buprenorphine / naloxone             Opiate Dependence   \n",
       "\n",
       "                                              review  rating  \\\n",
       "0  \"It has no side effect, I take it in combinati...     9.0   \n",
       "1  \"My son is halfway through his fourth week of ...     8.0   \n",
       "2  \"I used to take another oral contraceptive, wh...     5.0   \n",
       "3  \"This is my first time using any form of birth...     8.0   \n",
       "4  \"Suboxone has completely turned my life around...     9.0   \n",
       "\n",
       "                date  usefulCount  \n",
       "0       May 20, 2012           27  \n",
       "1     April 27, 2010          192  \n",
       "2  December 14, 2009           17  \n",
       "3   November 3, 2015           10  \n",
       "4  November 27, 2016           37  "
      ]
     },
     "execution_count": 5,
     "metadata": {},
     "output_type": "execute_result"
    }
   ],
   "source": [
    "df.head()"
   ]
  },
  {
   "cell_type": "code",
   "execution_count": 6,
   "metadata": {},
   "outputs": [
    {
     "data": {
      "text/plain": [
       "condition\n",
       "Birth Control                                              28788\n",
       "Depression                                                  9069\n",
       "Pain                                                        6145\n",
       "Anxiety                                                     5904\n",
       "Acne                                                        5588\n",
       "                                                           ...  \n",
       "Dissociative Identity Disorde                                  1\n",
       "Hydrocephalus                                                  1\n",
       "Hyperlipoproteinemia Type III, Elevated beta-VLDL   IDL        1\n",
       "Q Feve                                                         1\n",
       "Neutropenia                                                    1\n",
       "Name: count, Length: 884, dtype: int64"
      ]
     },
     "execution_count": 6,
     "metadata": {},
     "output_type": "execute_result"
    }
   ],
   "source": [
    "df.condition.value_counts()"
   ]
  },
  {
   "cell_type": "code",
   "execution_count": null,
   "metadata": {},
   "outputs": [],
   "source": [
    "#Filtering Data for Specific Conditions\n",
    "df_train = df[(df['condition']=='Birth Control') | (df['condition']=='Depression')  | (df['condition']=='Pain') | (df['condition']=='Bipolar Disorde') | (df['condition']=='ADHD') | (df['condition']=='Anxiety') | (df['condition']=='High Blood Pressure')|(df['condition']=='Diabetes, Type 2')]"
   ]
  },
  {
   "cell_type": "code",
   "execution_count": 8,
   "metadata": {},
   "outputs": [
    {
     "data": {
      "text/plain": [
       "(161297, 7)"
      ]
     },
     "execution_count": 8,
     "metadata": {},
     "output_type": "execute_result"
    }
   ],
   "source": [
    "df.shape"
   ]
  },
  {
   "cell_type": "code",
   "execution_count": 9,
   "metadata": {},
   "outputs": [
    {
     "data": {
      "text/plain": [
       "(62388, 7)"
      ]
     },
     "execution_count": 9,
     "metadata": {},
     "output_type": "execute_result"
    }
   ],
   "source": [
    "df_train.shape"
   ]
  },
  {
   "cell_type": "code",
   "execution_count": 10,
   "metadata": {},
   "outputs": [],
   "source": [
    "X = df_train.drop(['Unnamed: 0','drugName','rating','date','usefulCount'],axis=1)"
   ]
  },
  {
   "cell_type": "markdown",
   "metadata": {},
   "source": [
    "## EDA"
   ]
  },
  {
   "cell_type": "code",
   "execution_count": 11,
   "metadata": {},
   "outputs": [
    {
     "data": {
      "text/plain": [
       "condition\n",
       "Birth Control          28788\n",
       "Depression              9069\n",
       "Pain                    6145\n",
       "Anxiety                 5904\n",
       "Bipolar Disorde         4224\n",
       "ADHD                    3383\n",
       "Diabetes, Type 2        2554\n",
       "High Blood Pressure     2321\n",
       "Name: count, dtype: int64"
      ]
     },
     "execution_count": 11,
     "metadata": {},
     "output_type": "execute_result"
    }
   ],
   "source": [
    "X.condition.value_counts()"
   ]
  },
  {
   "cell_type": "code",
   "execution_count": 12,
   "metadata": {},
   "outputs": [
    {
     "data": {
      "text/html": [
       "<div>\n",
       "<style scoped>\n",
       "    .dataframe tbody tr th:only-of-type {\n",
       "        vertical-align: middle;\n",
       "    }\n",
       "\n",
       "    .dataframe tbody tr th {\n",
       "        vertical-align: top;\n",
       "    }\n",
       "\n",
       "    .dataframe thead th {\n",
       "        text-align: right;\n",
       "    }\n",
       "</style>\n",
       "<table border=\"1\" class=\"dataframe\">\n",
       "  <thead>\n",
       "    <tr style=\"text-align: right;\">\n",
       "      <th></th>\n",
       "      <th>condition</th>\n",
       "      <th>review</th>\n",
       "    </tr>\n",
       "  </thead>\n",
       "  <tbody>\n",
       "    <tr>\n",
       "      <th>1</th>\n",
       "      <td>ADHD</td>\n",
       "      <td>\"My son is halfway through his fourth week of ...</td>\n",
       "    </tr>\n",
       "    <tr>\n",
       "      <th>2</th>\n",
       "      <td>Birth Control</td>\n",
       "      <td>\"I used to take another oral contraceptive, wh...</td>\n",
       "    </tr>\n",
       "    <tr>\n",
       "      <th>3</th>\n",
       "      <td>Birth Control</td>\n",
       "      <td>\"This is my first time using any form of birth...</td>\n",
       "    </tr>\n",
       "    <tr>\n",
       "      <th>7</th>\n",
       "      <td>Bipolar Disorde</td>\n",
       "      <td>\"Abilify changed my life. There is hope. I was...</td>\n",
       "    </tr>\n",
       "    <tr>\n",
       "      <th>9</th>\n",
       "      <td>Birth Control</td>\n",
       "      <td>\"I had been on the pill for many years. When m...</td>\n",
       "    </tr>\n",
       "  </tbody>\n",
       "</table>\n",
       "</div>"
      ],
      "text/plain": [
       "         condition                                             review\n",
       "1             ADHD  \"My son is halfway through his fourth week of ...\n",
       "2    Birth Control  \"I used to take another oral contraceptive, wh...\n",
       "3    Birth Control  \"This is my first time using any form of birth...\n",
       "7  Bipolar Disorde  \"Abilify changed my life. There is hope. I was...\n",
       "9    Birth Control  \"I had been on the pill for many years. When m..."
      ]
     },
     "execution_count": 12,
     "metadata": {},
     "output_type": "execute_result"
    }
   ],
   "source": [
    "X.head()"
   ]
  },
  {
   "cell_type": "code",
   "execution_count": 13,
   "metadata": {},
   "outputs": [],
   "source": [
    "# segregating dataframe for analyzing individual condition\n",
    "X_birth=X[(X['condition']=='Birth Control')]\n",
    "X_dep=X[(X['condition']=='Depression')]\n",
    "X_bp=X[(X['condition']=='High Blood Pressure')]\n",
    "X_diab=X[(X['condition']=='Diabetes, Type 2')]"
   ]
  },
  {
   "cell_type": "markdown",
   "metadata": {},
   "source": [
    "## data preprocessing"
   ]
  },
  {
   "cell_type": "code",
   "execution_count": 14,
   "metadata": {},
   "outputs": [
    {
     "data": {
      "text/plain": [
       "'\"I used to take another oral contraceptive, which had 21 pill cycle, and was very happy- very light periods, max 5 days, no other side effects. But it contained hormone gestodene, which is not available in US, so I switched to Lybrel, because the ingredients are similar. When my other pills ended, I started Lybrel immediately, on my first day of period, as the instructions said. And the period lasted for two weeks. When taking the second pack- same two weeks. And now, with third pack things got even worse- my third period lasted for two weeks and now it&#039;s the end of the third week- I still have daily brown discharge.\\r\\nThe positive side is that I didn&#039;t have any other side effects. The idea of being period free was so tempting... Alas.\"'"
      ]
     },
     "execution_count": 14,
     "metadata": {},
     "output_type": "execute_result"
    }
   ],
   "source": [
    "X['review'][2]"
   ]
  },
  {
   "cell_type": "code",
   "execution_count": 15,
   "metadata": {},
   "outputs": [
    {
     "data": {
      "text/plain": [
       "'\"I have taken anti-depressants for years, with some improvement but mostly moderate to severe side affects, which makes me go off them.\\r\\n\\r\\nI only take Cymbalta now mostly for pain.\\r\\n\\r\\nWhen I began Deplin, I noticed a major improvement overnight. More energy, better disposition, and no sinking to the low lows of major depression. I have been taking it for about 3 months now and feel like a normal person for the first time ever. Best thing, no side effects.\"'"
      ]
     },
     "execution_count": 15,
     "metadata": {},
     "output_type": "execute_result"
    }
   ],
   "source": [
    "X['review'][11]"
   ]
  },
  {
   "cell_type": "code",
   "execution_count": 17,
   "metadata": {},
   "outputs": [
    {
     "data": {
      "text/html": [
       "<div>\n",
       "<style scoped>\n",
       "    .dataframe tbody tr th:only-of-type {\n",
       "        vertical-align: middle;\n",
       "    }\n",
       "\n",
       "    .dataframe tbody tr th {\n",
       "        vertical-align: top;\n",
       "    }\n",
       "\n",
       "    .dataframe thead th {\n",
       "        text-align: right;\n",
       "    }\n",
       "</style>\n",
       "<table border=\"1\" class=\"dataframe\">\n",
       "  <thead>\n",
       "    <tr style=\"text-align: right;\">\n",
       "      <th></th>\n",
       "      <th>condition</th>\n",
       "      <th>review</th>\n",
       "    </tr>\n",
       "  </thead>\n",
       "  <tbody>\n",
       "    <tr>\n",
       "      <th>1</th>\n",
       "      <td>ADHD</td>\n",
       "      <td>My son is halfway through his fourth week of I...</td>\n",
       "    </tr>\n",
       "    <tr>\n",
       "      <th>2</th>\n",
       "      <td>Birth Control</td>\n",
       "      <td>I used to take another oral contraceptive, whi...</td>\n",
       "    </tr>\n",
       "    <tr>\n",
       "      <th>3</th>\n",
       "      <td>Birth Control</td>\n",
       "      <td>This is my first time using any form of birth ...</td>\n",
       "    </tr>\n",
       "    <tr>\n",
       "      <th>7</th>\n",
       "      <td>Bipolar Disorde</td>\n",
       "      <td>Abilify changed my life. There is hope. I was ...</td>\n",
       "    </tr>\n",
       "    <tr>\n",
       "      <th>9</th>\n",
       "      <td>Birth Control</td>\n",
       "      <td>I had been on the pill for many years. When my...</td>\n",
       "    </tr>\n",
       "  </tbody>\n",
       "</table>\n",
       "</div>"
      ],
      "text/plain": [
       "         condition                                             review\n",
       "1             ADHD  My son is halfway through his fourth week of I...\n",
       "2    Birth Control  I used to take another oral contraceptive, whi...\n",
       "3    Birth Control  This is my first time using any form of birth ...\n",
       "7  Bipolar Disorde  Abilify changed my life. There is hope. I was ...\n",
       "9    Birth Control  I had been on the pill for many years. When my..."
      ]
     },
     "execution_count": 17,
     "metadata": {},
     "output_type": "execute_result"
    }
   ],
   "source": [
    "X.head()"
   ]
  },
  {
   "cell_type": "markdown",
   "metadata": {},
   "source": [
    "### What are stopwords ?\n",
    "\n",
    "Stopwords are the most common words in any natural language. For the purpose of building NLP models, these stopwords might not add much value to the meaning of the document.\n",
    "\n",
    "The most common words used in a text are **“the”, “is”, “in”, “for”, “where”, “when”, “to”, “at”** etc."
   ]
  },
  {
   "cell_type": "code",
   "execution_count": 18,
   "metadata": {},
   "outputs": [],
   "source": [
    "from nltk.corpus import stopwords\n",
    "\n",
    "stop = stopwords.words('english')\n"
   ]
  },
  {
   "cell_type": "code",
   "execution_count": 19,
   "metadata": {},
   "outputs": [
    {
     "data": {
      "text/plain": [
       "['a',\n",
       " 'about',\n",
       " 'above',\n",
       " 'after',\n",
       " 'again',\n",
       " 'against',\n",
       " 'ain',\n",
       " 'all',\n",
       " 'am',\n",
       " 'an',\n",
       " 'and',\n",
       " 'any',\n",
       " 'are',\n",
       " 'aren',\n",
       " \"aren't\",\n",
       " 'as',\n",
       " 'at',\n",
       " 'be',\n",
       " 'because',\n",
       " 'been',\n",
       " 'before',\n",
       " 'being',\n",
       " 'below',\n",
       " 'between',\n",
       " 'both',\n",
       " 'but',\n",
       " 'by',\n",
       " 'can',\n",
       " 'couldn',\n",
       " \"couldn't\",\n",
       " 'd',\n",
       " 'did',\n",
       " 'didn',\n",
       " \"didn't\",\n",
       " 'do',\n",
       " 'does',\n",
       " 'doesn',\n",
       " \"doesn't\",\n",
       " 'doing',\n",
       " 'don',\n",
       " \"don't\",\n",
       " 'down',\n",
       " 'during',\n",
       " 'each',\n",
       " 'few',\n",
       " 'for',\n",
       " 'from',\n",
       " 'further',\n",
       " 'had',\n",
       " 'hadn',\n",
       " \"hadn't\",\n",
       " 'has',\n",
       " 'hasn',\n",
       " \"hasn't\",\n",
       " 'have',\n",
       " 'haven',\n",
       " \"haven't\",\n",
       " 'having',\n",
       " 'he',\n",
       " \"he'd\",\n",
       " \"he'll\",\n",
       " 'her',\n",
       " 'here',\n",
       " 'hers',\n",
       " 'herself',\n",
       " \"he's\",\n",
       " 'him',\n",
       " 'himself',\n",
       " 'his',\n",
       " 'how',\n",
       " 'i',\n",
       " \"i'd\",\n",
       " 'if',\n",
       " \"i'll\",\n",
       " \"i'm\",\n",
       " 'in',\n",
       " 'into',\n",
       " 'is',\n",
       " 'isn',\n",
       " \"isn't\",\n",
       " 'it',\n",
       " \"it'd\",\n",
       " \"it'll\",\n",
       " \"it's\",\n",
       " 'its',\n",
       " 'itself',\n",
       " \"i've\",\n",
       " 'just',\n",
       " 'll',\n",
       " 'm',\n",
       " 'ma',\n",
       " 'me',\n",
       " 'mightn',\n",
       " \"mightn't\",\n",
       " 'more',\n",
       " 'most',\n",
       " 'mustn',\n",
       " \"mustn't\",\n",
       " 'my',\n",
       " 'myself',\n",
       " 'needn',\n",
       " \"needn't\",\n",
       " 'no',\n",
       " 'nor',\n",
       " 'not',\n",
       " 'now',\n",
       " 'o',\n",
       " 'of',\n",
       " 'off',\n",
       " 'on',\n",
       " 'once',\n",
       " 'only',\n",
       " 'or',\n",
       " 'other',\n",
       " 'our',\n",
       " 'ours',\n",
       " 'ourselves',\n",
       " 'out',\n",
       " 'over',\n",
       " 'own',\n",
       " 're',\n",
       " 's',\n",
       " 'same',\n",
       " 'shan',\n",
       " \"shan't\",\n",
       " 'she',\n",
       " \"she'd\",\n",
       " \"she'll\",\n",
       " \"she's\",\n",
       " 'should',\n",
       " 'shouldn',\n",
       " \"shouldn't\",\n",
       " \"should've\",\n",
       " 'so',\n",
       " 'some',\n",
       " 'such',\n",
       " 't',\n",
       " 'than',\n",
       " 'that',\n",
       " \"that'll\",\n",
       " 'the',\n",
       " 'their',\n",
       " 'theirs',\n",
       " 'them',\n",
       " 'themselves',\n",
       " 'then',\n",
       " 'there',\n",
       " 'these',\n",
       " 'they',\n",
       " \"they'd\",\n",
       " \"they'll\",\n",
       " \"they're\",\n",
       " \"they've\",\n",
       " 'this',\n",
       " 'those',\n",
       " 'through',\n",
       " 'to',\n",
       " 'too',\n",
       " 'under',\n",
       " 'until',\n",
       " 'up',\n",
       " 've',\n",
       " 'very',\n",
       " 'was',\n",
       " 'wasn',\n",
       " \"wasn't\",\n",
       " 'we',\n",
       " \"we'd\",\n",
       " \"we'll\",\n",
       " \"we're\",\n",
       " 'were',\n",
       " 'weren',\n",
       " \"weren't\",\n",
       " \"we've\",\n",
       " 'what',\n",
       " 'when',\n",
       " 'where',\n",
       " 'which',\n",
       " 'while',\n",
       " 'who',\n",
       " 'whom',\n",
       " 'why',\n",
       " 'will',\n",
       " 'with',\n",
       " 'won',\n",
       " \"won't\",\n",
       " 'wouldn',\n",
       " \"wouldn't\",\n",
       " 'y',\n",
       " 'you',\n",
       " \"you'd\",\n",
       " \"you'll\",\n",
       " 'your',\n",
       " \"you're\",\n",
       " 'yours',\n",
       " 'yourself',\n",
       " 'yourselves',\n",
       " \"you've\"]"
      ]
     },
     "execution_count": 19,
     "metadata": {},
     "output_type": "execute_result"
    }
   ],
   "source": [
    "stop"
   ]
  },
  {
   "cell_type": "markdown",
   "metadata": {},
   "source": [
    "## Lemmitization\n",
    "Lemmatization usually refers to doing things properly with the use of a vocabulary and morphological analysis of words, normally aiming to remove inflectional endings only and to return the base or dictionary form of a word, which is known as the lemma ."
   ]
  },
  {
   "cell_type": "code",
   "execution_count": null,
   "metadata": {},
   "outputs": [],
   "source": [
    "from nltk.stem import WordNetLemmatizer\n",
    "from nltk.stem import PorterStemmer\n",
    "\n",
    "#remove suffixes based \n",
    "porter = PorterStemmer()\n",
    "\n",
    "lemmatizer = WordNetLemmatizer()"
   ]
  },
  {
   "cell_type": "code",
   "execution_count": 21,
   "metadata": {},
   "outputs": [
    {
     "name": "stdout",
     "output_type": "stream",
     "text": [
      "sportingli\n",
      "veri\n",
      "troubl\n"
     ]
    }
   ],
   "source": [
    "print(porter.stem(\"sportingly\"))\n",
    "print(porter.stem(\"very\"))\n",
    "print(porter.stem(\"troubled\"))"
   ]
  },
  {
   "cell_type": "code",
   "execution_count": 22,
   "metadata": {},
   "outputs": [
    {
     "name": "stderr",
     "output_type": "stream",
     "text": [
      "[nltk_data] Downloading package omw-1.4 to\n",
      "[nltk_data]     C:\\Users\\rajar\\AppData\\Roaming\\nltk_data...\n",
      "[nltk_data]   Package omw-1.4 is already up-to-date!\n"
     ]
    },
    {
     "data": {
      "text/plain": [
       "True"
      ]
     },
     "execution_count": 22,
     "metadata": {},
     "output_type": "execute_result"
    }
   ],
   "source": [
    "import nltk\n",
    "nltk.download('omw-1.4')"
   ]
  },
  {
   "cell_type": "code",
   "execution_count": 23,
   "metadata": {},
   "outputs": [
    {
     "name": "stdout",
     "output_type": "stream",
     "text": [
      "sportingly\n",
      "very\n",
      "troubled\n"
     ]
    }
   ],
   "source": [
    "print(lemmatizer.lemmatize(\"sportingly\"))\n",
    "print(lemmatizer.lemmatize(\"very\"))\n",
    "print(lemmatizer.lemmatize(\"troubled\"))"
   ]
  },
  {
   "cell_type": "code",
   "execution_count": 24,
   "metadata": {},
   "outputs": [],
   "source": [
    "from bs4 import BeautifulSoup\n",
    "import re"
   ]
  },
  {
   "cell_type": "code",
   "execution_count": 25,
   "metadata": {},
   "outputs": [],
   "source": [
    "def review_to_words(raw_review):\n",
    "    # 1. Delete HTML \n",
    "    review_text = BeautifulSoup(raw_review, 'html.parser').get_text()\n",
    "    # 2. Make a space\n",
    "    letters_only = re.sub('[^a-zA-Z]', ' ', review_text)\n",
    "    # 3. lower letters\n",
    "    words = letters_only.lower().split()\n",
    "    # 5. Stopwords \n",
    "    meaningful_words = [w for w in words if not w in stop]\n",
    "    # 6. lemmitization\n",
    "    lemmitize_words = [lemmatizer.lemmatize(w) for w in meaningful_words]\n",
    "    # 7. space join words\n",
    "    return( ' '.join(lemmitize_words))"
   ]
  },
  {
   "cell_type": "code",
   "execution_count": 26,
   "metadata": {},
   "outputs": [
    {
     "name": "stderr",
     "output_type": "stream",
     "text": [
      "C:\\Users\\rajar\\AppData\\Local\\Temp\\ipykernel_13472\\2066199760.py:3: MarkupResemblesLocatorWarning: The input looks more like a filename than markup. You may want to open this file and pass the filehandle into Beautiful Soup.\n",
      "  review_text = BeautifulSoup(raw_review, 'html.parser').get_text()\n"
     ]
    }
   ],
   "source": [
    "X['review_clean'] = X['review'].apply(review_to_words)"
   ]
  },
  {
   "cell_type": "code",
   "execution_count": 27,
   "metadata": {},
   "outputs": [
    {
     "data": {
      "text/html": [
       "<div>\n",
       "<style scoped>\n",
       "    .dataframe tbody tr th:only-of-type {\n",
       "        vertical-align: middle;\n",
       "    }\n",
       "\n",
       "    .dataframe tbody tr th {\n",
       "        vertical-align: top;\n",
       "    }\n",
       "\n",
       "    .dataframe thead th {\n",
       "        text-align: right;\n",
       "    }\n",
       "</style>\n",
       "<table border=\"1\" class=\"dataframe\">\n",
       "  <thead>\n",
       "    <tr style=\"text-align: right;\">\n",
       "      <th></th>\n",
       "      <th>condition</th>\n",
       "      <th>review</th>\n",
       "      <th>review_clean</th>\n",
       "    </tr>\n",
       "  </thead>\n",
       "  <tbody>\n",
       "    <tr>\n",
       "      <th>1</th>\n",
       "      <td>ADHD</td>\n",
       "      <td>My son is halfway through his fourth week of I...</td>\n",
       "      <td>son halfway fourth week intuniv became concern...</td>\n",
       "    </tr>\n",
       "    <tr>\n",
       "      <th>2</th>\n",
       "      <td>Birth Control</td>\n",
       "      <td>I used to take another oral contraceptive, whi...</td>\n",
       "      <td>used take another oral contraceptive pill cycl...</td>\n",
       "    </tr>\n",
       "    <tr>\n",
       "      <th>3</th>\n",
       "      <td>Birth Control</td>\n",
       "      <td>This is my first time using any form of birth ...</td>\n",
       "      <td>first time using form birth control glad went ...</td>\n",
       "    </tr>\n",
       "    <tr>\n",
       "      <th>7</th>\n",
       "      <td>Bipolar Disorde</td>\n",
       "      <td>Abilify changed my life. There is hope. I was ...</td>\n",
       "      <td>abilify changed life hope zoloft clonidine fir...</td>\n",
       "    </tr>\n",
       "    <tr>\n",
       "      <th>9</th>\n",
       "      <td>Birth Control</td>\n",
       "      <td>I had been on the pill for many years. When my...</td>\n",
       "      <td>pill many year doctor changed rx chateal effec...</td>\n",
       "    </tr>\n",
       "  </tbody>\n",
       "</table>\n",
       "</div>"
      ],
      "text/plain": [
       "         condition                                             review  \\\n",
       "1             ADHD  My son is halfway through his fourth week of I...   \n",
       "2    Birth Control  I used to take another oral contraceptive, whi...   \n",
       "3    Birth Control  This is my first time using any form of birth ...   \n",
       "7  Bipolar Disorde  Abilify changed my life. There is hope. I was ...   \n",
       "9    Birth Control  I had been on the pill for many years. When my...   \n",
       "\n",
       "                                        review_clean  \n",
       "1  son halfway fourth week intuniv became concern...  \n",
       "2  used take another oral contraceptive pill cycl...  \n",
       "3  first time using form birth control glad went ...  \n",
       "7  abilify changed life hope zoloft clonidine fir...  \n",
       "9  pill many year doctor changed rx chateal effec...  "
      ]
     },
     "execution_count": 27,
     "metadata": {},
     "output_type": "execute_result"
    }
   ],
   "source": [
    "X.head()"
   ]
  },
  {
   "cell_type": "markdown",
   "metadata": {},
   "source": [
    "## Creating features and Target Variable"
   ]
  },
  {
   "cell_type": "code",
   "execution_count": 28,
   "metadata": {},
   "outputs": [],
   "source": [
    "X_feat=X['review_clean']\n",
    "y=X['condition']"
   ]
  },
  {
   "cell_type": "code",
   "execution_count": 31,
   "metadata": {},
   "outputs": [],
   "source": [
    "from sklearn.model_selection import train_test_split\n",
    "X_train, X_test, y_train, y_test = train_test_split(X_feat, y,stratify=y,test_size=0.2, random_state=0)"
   ]
  },
  {
   "cell_type": "code",
   "execution_count": 2,
   "metadata": {},
   "outputs": [],
   "source": [
    "import matplotlib.pyplot as plt\n",
    "def plot_confusion_matrix(cm, classes,\n",
    "                          normalize=False,\n",
    "                          title='Confusion matrix',\n",
    "                          cmap=plt.cm.Blues):\n",
    "    \"\"\"\n",
    "    See full source and example: \n",
    "    http://scikit-learn.org/stable/auto_examples/model_selection/plot_confusion_matrix.html\n",
    "    \n",
    "    This function prints and plots the confusion matrix.\n",
    "    Normalization can be applied by setting `normalize=True`.\n",
    "    \"\"\"\n",
    "    plt.imshow(cm, interpolation='nearest', cmap=cmap)\n",
    "    plt.title(title)\n",
    "    plt.colorbar()\n",
    "    tick_marks = np.arange(len(classes))\n",
    "    plt.xticks(tick_marks, classes, rotation=45)\n",
    "    plt.yticks(tick_marks, classes)\n",
    "    plt.show()\n",
    "\n",
    "    if normalize:\n",
    "        cm = cm.astype('float') / cm.sum(axis=1)[:, np.newaxis]\n",
    "        print(\"Normalized confusion matrix\")\n",
    "    else:\n",
    "        print('Confusion matrix, without normalization')\n",
    "\n",
    "    thresh = cm.max() / 2.\n",
    "    for i, j in itertools.product(range(cm.shape[0]), range(cm.shape[1])):\n",
    "        plt.text(j, i, cm[i, j],\n",
    "                 horizontalalignment=\"center\",\n",
    "                 color=\"white\" if cm[i, j] > thresh else \"black\")\n",
    "\n",
    "    plt.tight_layout()\n",
    "    plt.ylabel('True label')\n",
    "    plt.xlabel('Predicted label')\n",
    "    plt.show()"
   ]
  },
  {
   "cell_type": "markdown",
   "metadata": {},
   "source": [
    "### Bag of Words"
   ]
  },
  {
   "cell_type": "code",
   "execution_count": 35,
   "metadata": {},
   "outputs": [],
   "source": [
    "from sklearn.feature_extraction.text import CountVectorizer\n",
    "count_vectorizer = CountVectorizer(stop_words='english')\n",
    "\n",
    "count_train = count_vectorizer.fit_transform(X_train)\n",
    "\n",
    "count_test = count_vectorizer.transform(X_test)"
   ]
  },
  {
   "cell_type": "code",
   "execution_count": 36,
   "metadata": {},
   "outputs": [
    {
     "data": {
      "text/plain": [
       "<49910x20925 sparse matrix of type '<class 'numpy.int64'>'\n",
       "\twith 1535078 stored elements in Compressed Sparse Row format>"
      ]
     },
     "execution_count": 36,
     "metadata": {},
     "output_type": "execute_result"
    }
   ],
   "source": [
    "count_train"
   ]
  },
  {
   "cell_type": "markdown",
   "metadata": {},
   "source": [
    "## Machine Learning Model : Passive Aggressive Classifier"
   ]
  },
  {
   "cell_type": "code",
   "execution_count": 40,
   "metadata": {},
   "outputs": [
    {
     "name": "stdout",
     "output_type": "stream",
     "text": [
      "Accuracy: 0.905\n"
     ]
    },
    {
     "data": {
      "image/png": "[encoded data removed]",
      "text/plain": [
       "<Figure size 800x600 with 2 Axes>"
      ]
     },
     "metadata": {},
     "output_type": "display_data"
    }
   ],
   "source": [
    "from sklearn.linear_model import PassiveAggressiveClassifier\n",
    "from sklearn import metrics\n",
    "import matplotlib.pyplot as plt\n",
    "import seaborn as sns\n",
    "\n",
    "# Train the classifier\n",
    "passive = PassiveAggressiveClassifier()\n",
    "passive.fit(count_train, y_train)\n",
    "\n",
    "# Make predictions\n",
    "pred = passive.predict(count_test)\n",
    "\n",
    "# Calculate accuracy\n",
    "score = metrics.accuracy_score(y_test, pred)\n",
    "print(\"Accuracy: %0.3f\" % score)\n",
    "\n",
    "# Compute confusion matrix\n",
    "cm = metrics.confusion_matrix(y_test, pred, labels=['Birth Control', 'Depression','Pain','Anxiety','Bipolar Disorde','ADHD','Diabetes, Type 2','High Blood Pressure'])\n",
    "\n",
    "# Plot confusion matrix\n",
    "plt.figure(figsize=(8,6))\n",
    "sns.heatmap(cm, annot=True, fmt=\"d\", cmap=\"Blues\", xticklabels=['Birth Control', 'Depression','Pain','Anxiety','Bipolar Disorde','ADHD','Diabetes, Type 2','High Blood Pressure'], \n",
    "            yticklabels=['Birth Control', 'Depression','Pain','Anxiety','Bipolar Disorde','ADHD','Diabetes, Type 2','High Blood Pressure'])\n",
    "plt.xlabel(\"Predicted\")\n",
    "plt.ylabel(\"Actual\")\n",
    "plt.title(\"Confusion Matrix\")\n",
    "plt.show()\n"
   ]
  },
  {
   "cell_type": "markdown",
   "metadata": {},
   "source": [
    "### TFIDF"
   ]
  },
  {
   "cell_type": "code",
   "execution_count": 41,
   "metadata": {},
   "outputs": [],
   "source": [
    "from sklearn.feature_extraction.text import TfidfVectorizer\n",
    "\n",
    "tfidf_vectorizer = TfidfVectorizer(stop_words='english', max_df=0.8)\n",
    "tfidf_train_2 = tfidf_vectorizer.fit_transform(X_train)\n",
    "tfidf_test_2 = tfidf_vectorizer.transform(X_test)"
   ]
  },
  {
   "cell_type": "markdown",
   "metadata": {},
   "source": [
    "## Machine Learning Model TFIDF"
   ]
  },
  {
   "cell_type": "code",
   "execution_count": 43,
   "metadata": {},
   "outputs": [
    {
     "name": "stdout",
     "output_type": "stream",
     "text": [
      "Accuracy: 0.916\n"
     ]
    },
    {
     "data": {
      "image/png": "[encoded data removed]",
      "text/plain": [
       "<Figure size 800x600 with 2 Axes>"
      ]
     },
     "metadata": {},
     "output_type": "display_data"
    }
   ],
   "source": [
    "from sklearn.feature_extraction.text import TfidfVectorizer\n",
    "from sklearn.linear_model import PassiveAggressiveClassifier\n",
    "from sklearn import metrics\n",
    "import matplotlib.pyplot as plt\n",
    "import seaborn as sns\n",
    "\n",
    "# Vectorize text data\n",
    "tfidf_vectorizer = TfidfVectorizer(stop_words='english', max_df=0.8)\n",
    "tfidf_train = tfidf_vectorizer.fit_transform(X_train)\n",
    "tfidf_test = tfidf_vectorizer.transform(X_test)\n",
    "\n",
    "# Train the Passive Aggressive Classifier\n",
    "pass_tf = PassiveAggressiveClassifier()\n",
    "pass_tf.fit(tfidf_train, y_train)\n",
    "\n",
    "# Make predictions\n",
    "pred = pass_tf.predict(tfidf_test)\n",
    "\n",
    "# Calculate accuracy\n",
    "score = metrics.accuracy_score(y_test, pred)\n",
    "print(\"Accuracy: %0.3f\" % score)\n",
    "\n",
    "# Compute confusion matrix\n",
    "labels = ['Birth Control', 'Depression', 'Pain', 'Anxiety', 'Bipolar Disorde', 'ADHD', 'Diabetes, Type 2', 'High Blood Pressure']\n",
    "cm = metrics.confusion_matrix(y_test, pred, labels=labels)\n",
    "\n",
    "# Plot confusion matrix\n",
    "plt.figure(figsize=(8,6))\n",
    "sns.heatmap(cm, annot=True, fmt=\"d\", cmap=\"Blues\", xticklabels=labels, yticklabels=labels)\n",
    "plt.xlabel(\"Predicted\")\n",
    "plt.ylabel(\"Actual\")\n",
    "plt.title(\"Confusion Matrix\")\n",
    "plt.show()\n"
   ]
  },
  {
   "cell_type": "markdown",
   "metadata": {},
   "source": [
    "## TFIDF: Bigrams"
   ]
  },
  {
   "cell_type": "code",
   "execution_count": 44,
   "metadata": {},
   "outputs": [],
   "source": [
    "tfidf_vectorizer2 = TfidfVectorizer(stop_words='english', max_df=0.8, ngram_range=(1,2))\n",
    "tfidf_train_2 = tfidf_vectorizer2.fit_transform(X_train)\n",
    "tfidf_test_2 = tfidf_vectorizer2.transform(X_test)"
   ]
  },
  {
   "cell_type": "code",
   "execution_count": 46,
   "metadata": {},
   "outputs": [
    {
     "name": "stdout",
     "output_type": "stream",
     "text": [
      "Accuracy: 0.937\n"
     ]
    },
    {
     "data": {
      "image/png": "[encoded data removed]",
      "text/plain": [
       "<Figure size 800x600 with 2 Axes>"
      ]
     },
     "metadata": {},
     "output_type": "display_data"
    }
   ],
   "source": [
    "from sklearn.linear_model import PassiveAggressiveClassifier\n",
    "from sklearn import metrics\n",
    "import matplotlib.pyplot as plt\n",
    "import seaborn as sns\n",
    "\n",
    "# Train the Passive Aggressive Classifier\n",
    "pass_tf = PassiveAggressiveClassifier()\n",
    "pass_tf.fit(tfidf_train_2, y_train)\n",
    "\n",
    "# Make predictions\n",
    "pred = pass_tf.predict(tfidf_test_2)\n",
    "\n",
    "# Calculate accuracy\n",
    "score = metrics.accuracy_score(y_test, pred)\n",
    "print(\"Accuracy: %0.3f\" % score)\n",
    "\n",
    "# Compute confusion matrix\n",
    "labels = ['Birth Control', 'Depression', 'Pain', 'Anxiety', 'Bipolar Disorde', 'ADHD', 'Diabetes, Type 2', 'High Blood Pressure']\n",
    "cm = metrics.confusion_matrix(y_test, pred, labels=labels)\n",
    "\n",
    "# Plot confusion matrix using Seaborn\n",
    "plt.figure(figsize=(8,6))\n",
    "sns.heatmap(cm, annot=True, fmt=\"d\", cmap=\"Blues\", xticklabels=labels, yticklabels=labels)\n",
    "plt.xlabel(\"Predicted\")\n",
    "plt.ylabel(\"Actual\")\n",
    "plt.title(\"Confusion Matrix\")\n",
    "plt.show()\n"
   ]
  },
  {
   "cell_type": "markdown",
   "metadata": {},
   "source": [
    "## TFIDF : Trigrams"
   ]
  },
  {
   "cell_type": "code",
   "execution_count": 48,
   "metadata": {},
   "outputs": [
    {
     "name": "stdout",
     "output_type": "stream",
     "text": [
      "Accuracy: 0.939\n"
     ]
    },
    {
     "data": {
      "image/png": "[encoded data removed]",
      "text/plain": [
       "<Figure size 800x600 with 2 Axes>"
      ]
     },
     "metadata": {},
     "output_type": "display_data"
    }
   ],
   "source": [
    "from sklearn.feature_extraction.text import TfidfVectorizer\n",
    "from sklearn.linear_model import PassiveAggressiveClassifier\n",
    "from sklearn import metrics\n",
    "import matplotlib.pyplot as plt\n",
    "import seaborn as sns\n",
    "\n",
    "# TF-IDF Vectorization with n-grams (1,3)\n",
    "tfidf_vectorizer3 = TfidfVectorizer(stop_words='english', max_df=0.8, ngram_range=(1,3))\n",
    "tfidf_train_3 = tfidf_vectorizer3.fit_transform(X_train)\n",
    "tfidf_test_3 = tfidf_vectorizer3.transform(X_test)\n",
    "\n",
    "# Train Passive Aggressive Classifier\n",
    "pass_tf = PassiveAggressiveClassifier()\n",
    "pass_tf.fit(tfidf_train_3, y_train)\n",
    "\n",
    "# Make predictions\n",
    "pred = pass_tf.predict(tfidf_test_3)\n",
    "\n",
    "# Calculate accuracy\n",
    "score = metrics.accuracy_score(y_test, pred)\n",
    "print(\"Accuracy: %0.3f\" % score)\n",
    "\n",
    "# Compute confusion matrix\n",
    "labels = ['Birth Control', 'Depression', 'Pain', 'Anxiety', 'Bipolar Disorde', 'ADHD', 'Diabetes, Type 2', 'High Blood Pressure']\n",
    "cm = metrics.confusion_matrix(y_test, pred, labels=labels)\n",
    "\n",
    "# Plot confusion matrix using Seaborn\n",
    "plt.figure(figsize=(8,6))\n",
    "sns.heatmap(cm, annot=True, fmt=\"d\", cmap=\"Blues\", xticklabels=labels, yticklabels=labels)\n",
    "plt.xlabel(\"Predicted\")\n",
    "plt.ylabel(\"Actual\")\n",
    "plt.title(\"Confusion Matrix\")\n",
    "plt.show()\n"
   ]
  },
  {
   "cell_type": "markdown",
   "metadata": {},
   "source": [
    "## Most important Features"
   ]
  },
  {
   "cell_type": "code",
   "execution_count": 49,
   "metadata": {},
   "outputs": [
    {
     "name": "stdout",
     "output_type": "stream",
     "text": [
      "Birth Control sleepiness noticed 3.3172998089336994\n",
      "Birth Control kick habit 4.211012222230601\n",
      "Birth Control favorite stopped 5.309167539446232\n",
      "Birth Control little typically 5.55527507966304\n",
      "Birth Control decision yr 5.803387698777122\n",
      "Birth Control like deer 6.446130396386882\n",
      "Birth Control effect anorexia 7.529165784649538\n",
      "Birth Control drive stopped 7.73620072815385\n",
      "Birth Control drive roof 8.01967744129424\n",
      "Birth Control advise beginning 8.618121904144195\n"
     ]
    }
   ],
   "source": [
    "def most_informative_feature_for_class(vectorizer, classifier, classlabel, n=10):\n",
    "    labelid = list(classifier.classes_).index(classlabel)\n",
    "    feature_names = vectorizer.get_feature_names_out()\n",
    "    topn = sorted(zip(classifier.coef_[labelid], feature_names))[-n:]\n",
    "\n",
    "    for coef, feat in topn:\n",
    "        print (classlabel, feat, coef)\n",
    "\n",
    "\n",
    "\n",
    "most_informative_feature_for_class(tfidf_vectorizer2, pass_tf, 'Birth Control')"
   ]
  },
  {
   "cell_type": "code",
   "execution_count": 50,
   "metadata": {},
   "outputs": [
    {
     "name": "stdout",
     "output_type": "stream",
     "text": [
      "Depression wean cold 2.981413285167493\n",
      "Depression managed mood 3.135310256269496\n",
      "Depression nuvaring patch 3.2675096986789782\n",
      "Depression similar time 3.5955634393097764\n",
      "Depression normal good 4.123108746880271\n",
      "Depression heavy far 4.621315744383492\n",
      "Depression good fibromyalgia 5.766497740988167\n",
      "Depression bone sinus 6.080340570118933\n",
      "Depression felt keel 6.337434155474702\n",
      "Depression nuvaring amazing 11.766861362819565\n"
     ]
    }
   ],
   "source": [
    "most_informative_feature_for_class(tfidf_vectorizer2, pass_tf, 'Depression')"
   ]
  },
  {
   "cell_type": "code",
   "execution_count": 51,
   "metadata": {},
   "outputs": [
    {
     "name": "stdout",
     "output_type": "stream",
     "text": [
      "High Blood Pressure lexapro depressed 2.490646751524033\n",
      "High Blood Pressure crampa 3.2647885220528186\n",
      "High Blood Pressure coming scalp 3.264865953647025\n",
      "High Blood Pressure personal family 3.5854357225143287\n",
      "High Blood Pressure eng 4.013970034794106\n",
      "High Blood Pressure food fluid 4.336203932636273\n",
      "High Blood Pressure difficult reason 4.3810371407695845\n",
      "High Blood Pressure bit forgetful 4.443396016263653\n",
      "High Blood Pressure level twice 6.07907093769977\n",
      "High Blood Pressure extra needle 7.612973761627494\n"
     ]
    }
   ],
   "source": [
    "most_informative_feature_for_class(tfidf_vectorizer2, pass_tf, 'High Blood Pressure')"
   ]
  },
  {
   "cell_type": "code",
   "execution_count": 52,
   "metadata": {},
   "outputs": [
    {
     "name": "stdout",
     "output_type": "stream",
     "text": [
      "Diabetes, Type 2 painless light 2.1697242443304154\n",
      "Diabetes, Type 2 short overall 2.428518336565371\n",
      "Diabetes, Type 2 avascular necroses 2.5245077237263205\n",
      "Diabetes, Type 2 ticked 2.538421658252425\n",
      "Diabetes, Type 2 time encourage 2.883264753279341\n",
      "Diabetes, Type 2 amazed high 2.9761233316049664\n",
      "Diabetes, Type 2 enthusiasm changed 3.3276013088302343\n",
      "Diabetes, Type 2 pain exertion 4.058256796958472\n",
      "Diabetes, Type 2 follow hope 4.2920860835373515\n",
      "Diabetes, Type 2 following normal 4.582726808101745\n"
     ]
    }
   ],
   "source": [
    "most_informative_feature_for_class(tfidf_vectorizer2, pass_tf, 'Diabetes, Type 2')"
   ]
  },
  {
   "cell_type": "markdown",
   "metadata": {},
   "source": [
    "## Sample Predictions"
   ]
  },
  {
   "cell_type": "code",
   "execution_count": 53,
   "metadata": {},
   "outputs": [
    {
     "data": {
      "text/html": [
       "<div>\n",
       "<style scoped>\n",
       "    .dataframe tbody tr th:only-of-type {\n",
       "        vertical-align: middle;\n",
       "    }\n",
       "\n",
       "    .dataframe tbody tr th {\n",
       "        vertical-align: top;\n",
       "    }\n",
       "\n",
       "    .dataframe thead th {\n",
       "        text-align: right;\n",
       "    }\n",
       "</style>\n",
       "<table border=\"1\" class=\"dataframe\">\n",
       "  <thead>\n",
       "    <tr style=\"text-align: right;\">\n",
       "      <th></th>\n",
       "      <th>condition</th>\n",
       "      <th>review</th>\n",
       "      <th>review_clean</th>\n",
       "    </tr>\n",
       "  </thead>\n",
       "  <tbody>\n",
       "    <tr>\n",
       "      <th>161283</th>\n",
       "      <td>Bipolar Disorde</td>\n",
       "      <td>I was in a very bad place at the time I starte...</td>\n",
       "      <td>bad place time started taking doctor wanted we...</td>\n",
       "    </tr>\n",
       "    <tr>\n",
       "      <th>161286</th>\n",
       "      <td>Depression</td>\n",
       "      <td>This is the third med I&amp;#039;ve tried for anxi...</td>\n",
       "      <td>third med tried anxiety mild depression week h...</td>\n",
       "    </tr>\n",
       "    <tr>\n",
       "      <th>161287</th>\n",
       "      <td>Anxiety</td>\n",
       "      <td>I was super against taking medication. I&amp;#039;...</td>\n",
       "      <td>super taking medication started dealing anxiet...</td>\n",
       "    </tr>\n",
       "    <tr>\n",
       "      <th>161290</th>\n",
       "      <td>High Blood Pressure</td>\n",
       "      <td>I have only been on Tekturna for 9 days. The e...</td>\n",
       "      <td>tekturna day effect immediate also calcium cha...</td>\n",
       "    </tr>\n",
       "    <tr>\n",
       "      <th>161291</th>\n",
       "      <td>Birth Control</td>\n",
       "      <td>This would be my second month on Junel. I&amp;#039...</td>\n",
       "      <td>would second month junel birth control year ch...</td>\n",
       "    </tr>\n",
       "  </tbody>\n",
       "</table>\n",
       "</div>"
      ],
      "text/plain": [
       "                  condition  \\\n",
       "161283      Bipolar Disorde   \n",
       "161286           Depression   \n",
       "161287              Anxiety   \n",
       "161290  High Blood Pressure   \n",
       "161291        Birth Control   \n",
       "\n",
       "                                                   review  \\\n",
       "161283  I was in a very bad place at the time I starte...   \n",
       "161286  This is the third med I&#039;ve tried for anxi...   \n",
       "161287  I was super against taking medication. I&#039;...   \n",
       "161290  I have only been on Tekturna for 9 days. The e...   \n",
       "161291  This would be my second month on Junel. I&#039...   \n",
       "\n",
       "                                             review_clean  \n",
       "161283  bad place time started taking doctor wanted we...  \n",
       "161286  third med tried anxiety mild depression week h...  \n",
       "161287  super taking medication started dealing anxiet...  \n",
       "161290  tekturna day effect immediate also calcium cha...  \n",
       "161291  would second month junel birth control year ch...  "
      ]
     },
     "execution_count": 53,
     "metadata": {},
     "output_type": "execute_result"
    }
   ],
   "source": [
    "X.tail()"
   ]
  },
  {
   "cell_type": "code",
   "execution_count": 54,
   "metadata": {},
   "outputs": [],
   "source": [
    "## Function for Extracting Top drugs\n",
    "\n",
    "def top_drugs_extractor(condition):\n",
    "    df_top = df[(df['rating']>=9)&(df['usefulCount']>=100)].sort_values(by = ['rating', 'usefulCount'], ascending = [False, False])\n",
    "    drug_lst = df_top[df_top['condition']==condition]['drugName'].head(3).tolist()\n",
    "    return drug_lst"
   ]
  },
  {
   "cell_type": "code",
   "execution_count": 55,
   "metadata": {},
   "outputs": [],
   "source": [
    "def predict_text(lst_text):\n",
    "    df_test = pd.DataFrame(lst_text, columns = ['test_sent'])\n",
    "    df_test[\"test_sent\"] = df_test[\"test_sent\"].apply(review_to_words)\n",
    "    tfidf_bigram = tfidf_vectorizer3.transform(lst_text)\n",
    "    prediction = pass_tf.predict(tfidf_bigram)\n",
    "    df_test['prediction']=prediction\n",
    "    return df_test"
   ]
  },
  {
   "cell_type": "code",
   "execution_count": 56,
   "metadata": {},
   "outputs": [],
   "source": [
    "sentences = [\n",
    "  \"I have only been on Tekturna for 9 days. The effect was immediate. I am also on a calcium channel blocker (Tiazac) and hydrochlorothiazide. I was put on Tekturna because of palpitations experienced with Diovan (ugly drug in my opinion, same company produces both however). The palpitations were pretty bad on Diovan, 24 hour monitor by EKG etc. After a few days of substituting Tekturna for Diovan, there are no more palpitations.\",\n",
    "    \"son halfway fourth week intuniv became concerned began last week started taking highest dose two day could hardly get bed cranky slept nearly hour drive home school vacation unusual called doctor monday morning said stick day see school getting morning last two day problem free much agreeable ever le emotional good thing le cranky remembering thing overall behavior better tried many different medication far effective\",\n",
    "    \"I just got diagnosed with type 2. My doctor prescribed Invokana and metformin from the beginning. My sugars went down to normal by the second week. I am losing so much weight. No side effects yet. Miracle medicine for me\",\n",
    "    \n",
    "  ]"
   ]
  },
  {
   "cell_type": "code",
   "execution_count": 57,
   "metadata": {},
   "outputs": [
    {
     "name": "stderr",
     "output_type": "stream",
     "text": [
      "<>:72: SyntaxWarning: invalid escape sequence '\\C'\n",
      "<>:72: SyntaxWarning: invalid escape sequence '\\C'\n",
      "C:\\Users\\rajar\\AppData\\Local\\Temp\\ipykernel_13472\\727699231.py:72: SyntaxWarning: invalid escape sequence '\\C'\n",
      "  print(\"text:\", text, \"\\Condition:\", target)\n"
     ]
    },
    {
     "name": "stdout",
     "output_type": "stream",
     "text": [
      "text: I have only been on Tekturna for 9 days. The effect was immediate. I am also on a calcium channel blocker (Tiazac) and hydrochlorothiazide. I was put on Tekturna because of palpitations experienced with Diovan (ugly drug in my opinion, same company produces both however). The palpitations were pretty bad on Diovan, 24 hour monitor by EKG etc. After a few days of substituting Tekturna for Diovan, there are no more palpitations. \n",
      "Condition: High Blood Pressure\n",
      "Top 3 Suggested Drugs:\n",
      "Losartan\n",
      "Aldactone\n",
      "Spironolactone\n",
      "\n",
      "text: son halfway fourth week intuniv became concerned began last week started taking highest dose two day could hardly get bed cranky slept nearly hour drive home school vacation unusual called doctor monday morning said stick day see school getting morning last two day problem free much agreeable ever le emotional good thing le cranky remembering thing overall behavior better tried many different medication far effective \n",
      "Condition: ADHD\n",
      "Top 3 Suggested Drugs:\n",
      "Adderall\n",
      "Amphetamine / dextroamphetamine\n",
      "Atomoxetine\n",
      "\n",
      "text: I just got diagnosed with type 2. My doctor prescribed Invokana and metformin from the beginning. My sugars went down to normal by the second week. I am losing so much weight. No side effects yet. Miracle medicine for me \n",
      "Condition: Diabetes, Type 2\n",
      "Top 3 Suggested Drugs:\n",
      "Victoza\n",
      "Canagliflozin\n",
      "Invokana\n",
      "\n"
     ]
    }
   ],
   "source": [
    "tfidf_trigram = tfidf_vectorizer3.transform(sentences)\n",
    "\n",
    "\n",
    "predictions = pass_tf.predict(tfidf_trigram)\n",
    "\n",
    "for text, label in zip(sentences, predictions):\n",
    "    if label==\"High Blood Pressure\":\n",
    "        target=\"High Blood Pressure\"\n",
    "        top_drugs = top_drugs_extractor(label)\n",
    "        print(\"text:\", text, \"\\nCondition:\", target)\n",
    "        print(\"Top 3 Suggested Drugs:\")\n",
    "        print(top_drugs[0])\n",
    "        print(top_drugs[1])\n",
    "        print(top_drugs[2])\n",
    "        print()\n",
    "    elif label==\"Depression\":\n",
    "        target=\"Depression\"\n",
    "        top_drugs = top_drugs_extractor(label)\n",
    "        print(\"text:\", text, \"\\nCondition:\", target)\n",
    "        print(\"Top 3 Suggested Drugs:\")\n",
    "        print(top_drugs[0])\n",
    "        print(top_drugs[1])\n",
    "        print(top_drugs[2])\n",
    "        print()\n",
    "    elif label==\"ADHD\":\n",
    "        target=\"ADHD\"\n",
    "        top_drugs = top_drugs_extractor(label)\n",
    "        print(\"text:\", text, \"\\nCondition:\", target)\n",
    "        print(\"Top 3 Suggested Drugs:\")\n",
    "        print(top_drugs[0])\n",
    "        print(top_drugs[1])\n",
    "        print(top_drugs[2])\n",
    "        print()\n",
    "    elif label==\"Diabetes, Type 2\":\n",
    "        target=\"Diabetes, Type 2\"\n",
    "        top_drugs = top_drugs_extractor(label)\n",
    "        print(\"text:\", text, \"\\nCondition:\", target)\n",
    "        print(\"Top 3 Suggested Drugs:\")\n",
    "        print(top_drugs[0])\n",
    "        print(top_drugs[1])\n",
    "        print(top_drugs[2])\n",
    "        print()\n",
    "    elif label==\"Bipolar Disorde\":\n",
    "        target=\"Bipolar Disorde\"\n",
    "        top_drugs = top_drugs_extractor(label)\n",
    "        print(\"text:\", text, \"\\nCondition:\", target)\n",
    "        print(\"Top 3 Suggested Drugs:\")\n",
    "        print(top_drugs[0])\n",
    "        print(top_drugs[1])\n",
    "        print(top_drugs[2])\n",
    "        print()\n",
    "    elif label==\"Anxiety\":\n",
    "        target=\"Anxiety\"\n",
    "        top_drugs = top_drugs_extractor(label)\n",
    "        print(\"text:\", text, \"\\nCondition:\", target)\n",
    "        print(\"Top 3 Suggested Drugs:\")\n",
    "        print(top_drugs[0])\n",
    "        print(top_drugs[1])\n",
    "        print(top_drugs[2])\n",
    "        print()\n",
    "    elif label==\"Pain\":\n",
    "        target=\"Pain\"\n",
    "        top_drugs = top_drugs_extractor(label)\n",
    "        print(\"text:\", text, \"\\nCondition:\", target)\n",
    "        print(\"Top 3 Suggested Drugs:\")\n",
    "        print(top_drugs[0])\n",
    "        print(top_drugs[1])\n",
    "        print(top_drugs[2])\n",
    "        print()\n",
    "    else:\n",
    "        target=\"Birth Control\"\n",
    "        print(\"text:\", text, \"\\Condition:\", target)\n",
    "        top_drugs = top_drugs_extractor(label)\n",
    "        print(\"text:\", text, \"\\nCondition:\", target)\n",
    "        print(\"Top 3 Suggested Drugs:\")\n",
    "        print(top_drugs[0])\n",
    "        print(top_drugs[1])\n",
    "        print(top_drugs[2])\n",
    "        print()"
   ]
  },
  {
   "cell_type": "code",
   "execution_count": 58,
   "metadata": {},
   "outputs": [
    {
     "data": {
      "text/html": [
       "<div>\n",
       "<style scoped>\n",
       "    .dataframe tbody tr th:only-of-type {\n",
       "        vertical-align: middle;\n",
       "    }\n",
       "\n",
       "    .dataframe tbody tr th {\n",
       "        vertical-align: top;\n",
       "    }\n",
       "\n",
       "    .dataframe thead th {\n",
       "        text-align: right;\n",
       "    }\n",
       "</style>\n",
       "<table border=\"1\" class=\"dataframe\">\n",
       "  <thead>\n",
       "    <tr style=\"text-align: right;\">\n",
       "      <th></th>\n",
       "      <th>test_sent</th>\n",
       "      <th>prediction</th>\n",
       "    </tr>\n",
       "  </thead>\n",
       "  <tbody>\n",
       "    <tr>\n",
       "      <th>0</th>\n",
       "      <td>tekturna day effect immediate also calcium cha...</td>\n",
       "      <td>High Blood Pressure</td>\n",
       "    </tr>\n",
       "    <tr>\n",
       "      <th>1</th>\n",
       "      <td>son halfway fourth week intuniv became concern...</td>\n",
       "      <td>ADHD</td>\n",
       "    </tr>\n",
       "    <tr>\n",
       "      <th>2</th>\n",
       "      <td>got diagnosed type doctor prescribed invokana ...</td>\n",
       "      <td>Diabetes, Type 2</td>\n",
       "    </tr>\n",
       "  </tbody>\n",
       "</table>\n",
       "</div>"
      ],
      "text/plain": [
       "                                           test_sent           prediction\n",
       "0  tekturna day effect immediate also calcium cha...  High Blood Pressure\n",
       "1  son halfway fourth week intuniv became concern...                 ADHD\n",
       "2  got diagnosed type doctor prescribed invokana ...     Diabetes, Type 2"
      ]
     },
     "execution_count": 58,
     "metadata": {},
     "output_type": "execute_result"
    }
   ],
   "source": [
    "df_testsent = predict_text(sentences)\n",
    "df_testsent"
   ]
  },
  {
   "cell_type": "code",
   "execution_count": 59,
   "metadata": {},
   "outputs": [
    {
     "data": {
      "text/plain": [
       "['passmodel.pkl']"
      ]
     },
     "execution_count": 59,
     "metadata": {},
     "output_type": "execute_result"
    }
   ],
   "source": [
    "import joblib\n",
    "joblib.dump(tfidf_vectorizer3, 'tfidfvectorizer.pkl')\n",
    "joblib.dump(pass_tf, 'passmodel.pkl')"
   ]
  },
  {
   "cell_type": "code",
   "execution_count": 60,
   "metadata": {},
   "outputs": [
    {
     "data": {
      "text/plain": [
       "'High Blood Pressure'"
      ]
     },
     "execution_count": 60,
     "metadata": {},
     "output_type": "execute_result"
    }
   ],
   "source": [
    "vectorizer = joblib.load('tfidfvectorizer.pkl')\n",
    "model = joblib.load('passmodel.pkl')\n",
    "\n",
    "test = model.predict(vectorizer.transform([\"I have only been on Tekturna for 9 days. The effect was immediate. I am also on a calcium channel blocker (Tiazac) and hydrochlorothiazide. I was put on Tekturna because of palpitations experienced with Diovan (ugly drug in my opinion, same company produces both however). The palpitations were pretty bad on Diovan, 24 hour monitor by EKG etc. After a few days of substituting Tekturna for Diovan, there are no more palpitations\"]))\n",
    "test[0]"
   ]
  }
 ],
 "metadata": {
  "kernelspec": {
   "display_name": "base",
   "language": "python",
   "name": "python3"
  },
  "language_info": {
   "codemirror_mode": {
    "name": "ipython",
    "version": 3
   },
   "file_extension": ".py",
   "mimetype": "text/x-python",
   "name": "python",
   "nbconvert_exporter": "python",
   "pygments_lexer": "ipython3",
   "version": "3.12.3"
  }
 },
 "nbformat": 4,
 "nbformat_minor": 4
}
